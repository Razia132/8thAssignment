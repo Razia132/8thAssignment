{
  "nbformat": 4,
  "nbformat_minor": 0,
  "metadata": {
    "colab": {
      "provenance": []
    },
    "kernelspec": {
      "name": "python3",
      "display_name": "Python 3"
    },
    "language_info": {
      "name": "python"
    }
  },
  "cells": [
    {
      "cell_type": "markdown",
      "source": [
        "Restful API and Flask\n",
        "1. What is a RESTful API?\n",
        "\n",
        "-->A RESTful API is a web service that follows certain rules to allow communication between different systems using the internet.\n",
        "\n",
        "2. Explain the concept of API specification.\n",
        "\n",
        "-->An API specification is a document that describes how an API works, including its endpoints, request formats, and responses.\n",
        "\n",
        "3. What is Flask, and why is it popular for building APIs?\n",
        "\n",
        "-->Flask is a lightweight Python framework used to build web applications and APIs. It is popular because it is easy to use and flexible.\n",
        "\n",
        "4. What is routing in Flask?\n",
        "\n",
        "-->Routing in Flask means defining which web page or function should be shown when a specific URL is accessed.\n",
        "\n",
        "5. How do you create a simple Flask application?\n",
        "\n",
        "-->A simple Flask application is made by installing Flask, creating a Python file, and defining a function to display content.\n",
        "\n",
        "6. What are HTTP methods used in RESTful APIs?\n",
        "\n",
        "-->GET – To get data\n",
        "\n",
        "POST – To send data\n",
        "\n",
        "PUT – To update data\n",
        "\n",
        "DELETE – To remove data\n",
        "\n",
        "7. What is the purpose of the @app.route() decorator in Flask?\n",
        "\n",
        "-->It helps to link a URL with a specific function in the Flask app.\n",
        "\n",
        "8. What is the difference between GET and POST HTTP methods?\n",
        "\n",
        "-->GET is used to fetch data.\n",
        "\n",
        "POST is used to send new data to the server.\n",
        "\n",
        "9. How do you handle errors in Flask APIs?\n",
        "\n",
        "-->Flask provides error messages like \"Page Not Found (404)\" or \"Server Error (500)\" when something goes wrong.\n",
        "\n",
        "10. How do you connect Flask to a SQL database?\n",
        "\n",
        "-->Flask can connect to a database by using extensions like Flask-SQLAlchemy.\n",
        "\n",
        "11. What is the role of Flask-SQLAlchemy?\n",
        "\n",
        "-->It makes working with databases easier in Flask by allowing us to use Python instead of SQL commands.\n",
        "\n",
        "12. What are Flask blueprints, and how are they useful?\n",
        "\n",
        "-->Blueprints help divide a large Flask application into smaller, manageable parts.\n",
        "\n",
        "13. What is the purpose of Flask’s request object?\n",
        "\n",
        "-->It allows us to access user input, such as form data or JSON data.\n",
        "\n",
        "14. How do you create a RESTful API endpoint using Flask?\n",
        "\n",
        "-->By defining a function and linking it to a URL where data can be accessed.\n",
        "\n",
        "15. What is the purpose of Flask’s jsonify() function?\n",
        "\n",
        "-->It converts Python data into JSON format for APIs.\n",
        "\n",
        "16. Explain Flask’s url_for() function.\n",
        "\n",
        "-->It generates URLs dynamically, so we don’t have to write them manually.\n",
        "\n",
        "17. How does Flask handle static files (CSS, JavaScript, etc.)?\n",
        "\n",
        "-->Flask stores them in a special folder called static.\n",
        "\n",
        "18. What is an API specification, and how does it help in building a Flask API?\n",
        "\n",
        "-->It acts as a guide that defines how an API should work, making development easier and more organized.\n",
        "\n",
        "19. What are HTTP status codes, and why are they important in a Flask API?\n",
        "\n",
        "-->They show if a request was successful (200), failed (400), or had a server error (500).\n",
        "\n",
        "20. How do you handle POST requests in Flask?\n",
        "\n",
        "-->Flask allows the API to receive data from users using the POST method.\n",
        "\n",
        "21. How would you secure a Flask API?\n",
        "\n",
        "-->By using authentication, encryption, and validation to prevent attacks.\n",
        "\n",
        "22. What is the significance of the Flask-RESTful extension?\n",
        "\n",
        "-->It makes creating REST APIs in Flask easier and more organized.\n",
        "\n",
        "23. What is the role of Flask’s session object?\n",
        "\n",
        "-->It stores user data temporarily, like login details.\n",
        "\n",
        "\n",
        "\n",
        "\n",
        "\n",
        "\n"
      ],
      "metadata": {
        "id": "b3Iu9a9CdTNF"
      }
    },
    {
      "cell_type": "code",
      "execution_count": 4,
      "metadata": {
        "colab": {
          "base_uri": "https://localhost:8080/"
        },
        "id": "OuBrTtNTdSNc",
        "outputId": "1a7656b8-a4e8-433e-fc73-7f44750381f9"
      },
      "outputs": [
        {
          "output_type": "stream",
          "name": "stdout",
          "text": [
            " * Serving Flask app '__main__'\n",
            " * Debug mode: on\n"
          ]
        },
        {
          "output_type": "stream",
          "name": "stderr",
          "text": [
            "INFO:werkzeug:\u001b[31m\u001b[1mWARNING: This is a development server. Do not use it in a production deployment. Use a production WSGI server instead.\u001b[0m\n",
            " * Running on http://127.0.0.1:5000\n",
            "INFO:werkzeug:\u001b[33mPress CTRL+C to quit\u001b[0m\n",
            "INFO:werkzeug: * Restarting with stat\n"
          ]
        }
      ],
      "source": [
        "# 1. Basic Flask App\n",
        "from flask import Flask\n",
        "app = Flask(__name__)\n",
        "\n",
        "@app.route('/')\n",
        "def home():\n",
        "    return \"Hello, Flask!\"\n",
        "\n",
        "if __name__ == '__main__':\n",
        "    app.run(debug=True)"
      ]
    },
    {
      "cell_type": "code",
      "source": [
        "\n",
        "# 2. How do you serve static files like images or CSS in Flask?\n",
        "from flask import Flask, send_from_directory\n",
        "\n",
        "app = Flask(__name__)\n",
        "\n",
        "@app.route('/static/<path:filename>')\n",
        "def static_files(filename):\n",
        "    return send_from_directory('static', filename)"
      ],
      "metadata": {
        "id": "33FednBRdzfS"
      },
      "execution_count": 5,
      "outputs": []
    },
    {
      "cell_type": "code",
      "source": [
        "# 3. Routes with Different HTTP Methods\n",
        "from flask import Flask, request\n",
        "app = Flask(__name__)\n",
        "\n",
        "@app.route('/submit', methods=['GET', 'POST'])\n",
        "def submit():\n",
        "    return \"POST request\" if request.method == 'POST' else \"GET request\""
      ],
      "metadata": {
        "id": "icmIpWp7dzkx"
      },
      "execution_count": 6,
      "outputs": []
    },
    {
      "cell_type": "code",
      "source": [
        "\n",
        "# 4. Render HTML Templates\n",
        "from flask import Flask, render_template\n",
        "app = Flask(__name__)\n",
        "\n",
        "@app.route('/home')\n",
        "def home():\n",
        "    return render_template('index.html')"
      ],
      "metadata": {
        "id": "XFXYIA89dznq"
      },
      "execution_count": 7,
      "outputs": []
    },
    {
      "cell_type": "code",
      "source": [
        "\n",
        "\n",
        "# 5. Generate URLs Using url_for\n",
        "from flask import Flask, url_for\n",
        "app = Flask(__name__)\n",
        "\n",
        "@app.route('/profile')\n",
        "def profile():\n",
        "    return \"User Profile\"\n",
        "\n",
        "@app.route('/get_url')\n",
        "def get_url():\n",
        "    return url_for('profile')\n"
      ],
      "metadata": {
        "id": "E3nMU6Q2dzqZ"
      },
      "execution_count": 8,
      "outputs": []
    },
    {
      "cell_type": "code",
      "source": [
        "# 6. Handle Forms\n",
        "from flask import Flask, request\n",
        "app = Flask(__name__)\n",
        "\n",
        "@app.route('/form', methods=['POST'])\n",
        "def handle_form():\n",
        "  return f\"Received: {request.form['username']}\""
      ],
      "metadata": {
        "id": "mrW__RobdztL"
      },
      "execution_count": 10,
      "outputs": []
    },
    {
      "cell_type": "code",
      "source": [
        "\n",
        "# 7. Validate Form Data\n",
        "from flask import Flask, request\n",
        "app = Flask(__name__)\n",
        "\n",
        "@app.route('/validate', methods=['POST'])\n",
        "def validate():\n",
        "    return \"Valid Input\" if request.form.get('username') else \"Invalid Input\""
      ],
      "metadata": {
        "id": "r6fqmfFLdzwJ"
      },
      "execution_count": 11,
      "outputs": []
    },
    {
      "cell_type": "code",
      "source": [
        "\n",
        "\n",
        "# 8. Manage Sessions\n",
        "from flask import Flask, session\n",
        "app = Flask(__name__)\n",
        "app.secret_key = \"secret\"\n",
        "\n",
        "@app.route('/set_session')\n",
        "def set_session():\n",
        "    session['user'] = 'JohnDoe'\n",
        "    return \"Session Set\"\n",
        "\n",
        "@app.route('/get_session')\n",
        "def get_session():\n",
        "    return session.get('user', 'No session')"
      ],
      "metadata": {
        "id": "mDDxL_mldzyx"
      },
      "execution_count": 12,
      "outputs": []
    },
    {
      "cell_type": "code",
      "source": [
        "\n",
        "# 9. Redirect to Another Route\n",
        "from flask import Flask, redirect, url_for\n",
        "app = Flask(__name__)\n",
        "\n",
        "@app.route('/')\n",
        "def home():\n",
        "    return redirect(url_for('dashboard'))\n",
        "\n",
        "@app.route('/dashboard')\n",
        "def dashboard():\n",
        "    return \"Welcome to the Dashboard\""
      ],
      "metadata": {
        "id": "Wsm4uHnRdz1Q"
      },
      "execution_count": 14,
      "outputs": []
    },
    {
      "cell_type": "code",
      "source": [
        "\n",
        "# 10. Handle Errors (404)\n",
        "from flask import Flask\n",
        "app = Flask(__name__)\n",
        "\n",
        "@app.errorhandler(404)\n",
        "def not_found(e):\n",
        "    return \"Page Not Found\", 404"
      ],
      "metadata": {
        "id": "etbQfv6ndz4D"
      },
      "execution_count": null,
      "outputs": []
    },
    {
      "cell_type": "code",
      "source": [
        "\n",
        "\n",
        "# 11. Use Blueprints\n",
        "from flask import Flask, Blueprint\n",
        "app = Flask(__name__)\n",
        "\n",
        "bp = Blueprint('bp', __name__)\n",
        "\n",
        "@bp.route('/blueprint')\n",
        "def blueprint_route():\n",
        "    return \"Hello from Blueprint!\"\n",
        "\n",
        "app.register_blueprint(bp)"
      ],
      "metadata": {
        "id": "u6m6J5MJdz6n"
      },
      "execution_count": 15,
      "outputs": []
    },
    {
      "cell_type": "code",
      "source": [
        "\n",
        "# 12. Custom Jinja Filter\n",
        "from flask import Flask\n",
        "app = Flask(__name__)\n",
        "\n",
        "@app.template_filter('reverse')\n",
        "def reverse_filter(s):\n",
        "    return s[::-1]"
      ],
      "metadata": {
        "id": "0azJ1_a-dz97"
      },
      "execution_count": 16,
      "outputs": []
    },
    {
      "cell_type": "code",
      "source": [
        "\n",
        "# 13. Redirect with Query Parameters\n",
        "from flask import Flask, redirect, url_for\n",
        "app = Flask(__name__)\n",
        "\n",
        "@app.route('/redirect')\n",
        "def redirect_with_params():\n",
        "    return redirect(url_for('destination', name='Razia'))\n",
        "\n",
        "@app.route('/destination')\n",
        "def destination():\n",
        "    return \"Redirected with Query Params\""
      ],
      "metadata": {
        "id": "MPwSQkyFd0Ak"
      },
      "execution_count": 17,
      "outputs": []
    },
    {
      "cell_type": "code",
      "source": [
        "\n",
        "# 14. Return JSON Response\n",
        "from flask import Flask, jsonify\n",
        "app = Flask(__name__)\n",
        "\n",
        "@app.route('/json')\n",
        "def return_json():\n",
        "    return jsonify({\"message\": \"Hello, JSON!\"})"
      ],
      "metadata": {
        "id": "n2SY7qktd0Da"
      },
      "execution_count": 18,
      "outputs": []
    },
    {
      "cell_type": "code",
      "source": [
        "\n",
        "\n",
        "# 15. Capture URL Parameters\n",
        "from flask import Flask\n",
        "app = Flask(__name__)\n",
        "\n",
        "@app.route('/user/<name>')\n",
        "def user_profile(name):\n",
        "    return f\"Hello, {name}!\""
      ],
      "metadata": {
        "id": "QXzw2xLJd0GS"
      },
      "execution_count": 19,
      "outputs": []
    },
    {
      "cell_type": "code",
      "source": [],
      "metadata": {
        "id": "sMp_ajFrd0Is"
      },
      "execution_count": null,
      "outputs": []
    },
    {
      "cell_type": "code",
      "source": [],
      "metadata": {
        "id": "EWP98pwbd0Lg"
      },
      "execution_count": null,
      "outputs": []
    },
    {
      "cell_type": "code",
      "source": [],
      "metadata": {
        "id": "yRoblVopd0OB"
      },
      "execution_count": null,
      "outputs": []
    },
    {
      "cell_type": "code",
      "source": [],
      "metadata": {
        "id": "wdIfAhgHd2OP"
      },
      "execution_count": null,
      "outputs": []
    },
    {
      "cell_type": "code",
      "source": [],
      "metadata": {
        "id": "uSBTi98Rd2Q0"
      },
      "execution_count": null,
      "outputs": []
    },
    {
      "cell_type": "code",
      "source": [],
      "metadata": {
        "id": "w0mPl7ewd2TK"
      },
      "execution_count": null,
      "outputs": []
    },
    {
      "cell_type": "code",
      "source": [],
      "metadata": {
        "id": "-oJ9QoOHd2WB"
      },
      "execution_count": null,
      "outputs": []
    }
  ]
}